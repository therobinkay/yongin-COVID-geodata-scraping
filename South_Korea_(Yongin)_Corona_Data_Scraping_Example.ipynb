{
  "nbformat": 4,
  "nbformat_minor": 0,
  "metadata": {
    "kernelspec": {
      "display_name": "Python 3",
      "language": "python",
      "name": "python3"
    },
    "language_info": {
      "codemirror_mode": {
        "name": "ipython",
        "version": 3
      },
      "file_extension": ".py",
      "mimetype": "text/x-python",
      "name": "python",
      "nbconvert_exporter": "python",
      "pygments_lexer": "ipython3",
      "version": "3.8.3"
    },
    "colab": {
      "name": "South Korea (Yongin) Corona Data Scraping Example.ipynb",
      "provenance": []
    }
  },
  "cells": [
    {
      "cell_type": "code",
      "metadata": {
        "id": "oock2V9ABeNa"
      },
      "source": [
        "# import necessary modules\n",
        "\n",
        "from dataclasses import dataclass\n",
        "from typing import List, Tuple \n",
        "from datetime import datetime, date\n",
        "import requests\n",
        "\n",
        "from bs4 import BeautifulSoup\n",
        "from pprint import pprint"
      ],
      "execution_count": null,
      "outputs": []
    },
    {
      "cell_type": "code",
      "metadata": {
        "id": "l7nlOyXiBeNq"
      },
      "source": [
        "# template for COVID reports (follows the information from the URL)\n",
        "\n",
        "@dataclass\n",
        "class Route:\n",
        "    from_time: datetime\n",
        "    to_time: datetime\n",
        "    description: str\n",
        "    addr_gps: Tuple[float, float] = None\n",
        "\n",
        "@dataclass\n",
        "class Case:\n",
        "    id: int\n",
        "    name: str\n",
        "    addr: str   \n",
        "    age: str\n",
        "    date: datetime\n",
        "    reason: str\n",
        "    hospital: str\n",
        "    comment: str\n",
        "    addr_gps: Tuple[float, float] = None\n",
        "    routes: List[Route] = None\n",
        "    routes_raw: str = None\n",
        "    symptom: str = None"
      ],
      "execution_count": null,
      "outputs": []
    },
    {
      "cell_type": "code",
      "metadata": {
        "id": "qoKjqY89BeNx"
      },
      "source": [
        "# Target URL \r\n",
        "\r\n",
        "url = 'https://www.yongin.go.kr/health/ictsd/INC_selectIctsdPatntList.do?q_currPage=1&q_rowPerPage=10'"
      ],
      "execution_count": null,
      "outputs": []
    },
    {
      "cell_type": "code",
      "metadata": {
        "id": "PztzEVD5BeN0",
        "colab": {
          "base_uri": "https://localhost:8080/",
          "height": 35
        },
        "outputId": "49a70ef4-fd3b-416b-dbe4-094a3bb25237"
      },
      "source": [
        "# text detection to get a sample for data scraping algorithm\n",
        "\n",
        "text = requests.get(url).text\n",
        "text[:100]"
      ],
      "execution_count": null,
      "outputs": [
        {
          "output_type": "execute_result",
          "data": {
            "application/vnd.google.colaboratory.intrinsic+json": {
              "type": "string"
            },
            "text/plain": [
              "'\\r\\n\\r\\n\\r\\n\\r\\n\\r\\n\\r\\n\\r\\n\\r\\n<script type=\"text/javascript\">\\n\\t$(document).ready(function(){\\r\\n\\t\\t$(\\'.btn_plus\\').cli'"
            ]
          },
          "metadata": {
            "tags": []
          },
          "execution_count": 6
        }
      ]
    },
    {
      "cell_type": "code",
      "metadata": {
        "id": "O5SIudh-BeN-",
        "colab": {
          "base_uri": "https://localhost:8080/",
          "height": 197
        },
        "outputId": "3963f563-6692-41e8-caf3-4f15a18fc917"
      },
      "source": [
        "# check texts\n",
        "\n",
        "html = BeautifulSoup(text)\n",
        "items = html.find_all(attrs={\"class\": \"txt_le expand\"})\n",
        "items"
      ],
      "execution_count": null,
      "outputs": [
        {
          "output_type": "execute_result",
          "data": {
            "text/plain": [
              "[<td class=\"txt_le expand\" style=\"text-align:center !important;\">435</td>,\n",
              " <td class=\"txt_le expand\" style=\"text-align:center !important;\">434</td>,\n",
              " <td class=\"txt_le expand\" style=\"text-align:center !important;\">433</td>,\n",
              " <td class=\"txt_le expand\" style=\"text-align:center !important;\">432</td>,\n",
              " <td class=\"txt_le expand\" style=\"text-align:center !important;\">431</td>,\n",
              " <td class=\"txt_le expand\" style=\"text-align:center !important;\">430</td>,\n",
              " <td class=\"txt_le expand\" style=\"text-align:center !important;\">429</td>,\n",
              " <td class=\"txt_le expand\" style=\"text-align:center !important;\">428</td>,\n",
              " <td class=\"txt_le expand\" style=\"text-align:center !important;\">427</td>,\n",
              " <td class=\"txt_le expand\" style=\"text-align:center !important;\">426</td>]"
            ]
          },
          "metadata": {
            "tags": []
          },
          "execution_count": 8
        }
      ]
    },
    {
      "cell_type": "code",
      "metadata": {
        "id": "cbcxbYS5BeOC",
        "colab": {
          "base_uri": "https://localhost:8080/",
          "height": 251
        },
        "outputId": "be905a6d-3f81-4bfe-c7da-1b019ee71e8e"
      },
      "source": [
        "# detect parents of the items\n",
        "\n",
        "item = items[0]\n",
        "parent = item.parent\n",
        "parent"
      ],
      "execution_count": null,
      "outputs": [
        {
          "output_type": "execute_result",
          "data": {
            "text/plain": [
              "<tr>\n",
              "<td class=\"txt_le expand\" style=\"text-align:center !important;\">435</td>\n",
              "<td class=\"txt_le\">용인-383</td>\n",
              "<td class=\"txt_le\">기흥구 영덕동</td>\n",
              "<td class=\"txt_le\" style=\"text-align:center !important;\">\n",
              "\t\t\t\t\t\t\t여성<br/>(50대)\n",
              "\t\t\t\t\t\t</td>\n",
              "<td class=\"txt_le\" style=\"text-align:center !important;\">10-06</td>\n",
              "<td class=\"txt_le\">용인외-40번 접촉자</td>\n",
              "<td class=\"txt_le\"></td>\n",
              "<td class=\"txt_le\"></td>\n",
              "<td><span class=\"btn_plus\">더보기</span><span class=\"btn_minus\">닫기</span></td>\n",
              "</tr>"
            ]
          },
          "metadata": {
            "tags": []
          },
          "execution_count": 9
        }
      ]
    },
    {
      "cell_type": "code",
      "metadata": {
        "id": "jSQugNyRBeOI",
        "colab": {
          "base_uri": "https://localhost:8080/",
          "height": 431
        },
        "outputId": "38ed2773-7cff-48c8-b65d-d8c9788bf7d2"
      },
      "source": [
        "# check contents of the parent text files\r\n",
        "\r\n",
        "detail = parent.parent.find_all(attrs={\"class\": \"view_content\"})[-1].text\r\n",
        "print(detail)"
      ],
      "execution_count": null,
      "outputs": [
        {
          "output_type": "stream",
          "text": [
            "\n",
            "[환자현황]\n",
            "○ 용인-376 : 남, 10대\n",
            "○ 주소 : 수지구 푸른솔로 20, 꽃메마을현대홈타운4차4단지(죽전동)\n",
            "○ 동거인 : 3명(검사예정)\n",
            "○ 증상(9.26) : 미각소실, 후각소실\n",
            "○ 특이사항 : 용인-369 접촉자\n",
            " \n",
            "[발생경위 및 조치사항]\n",
            "○ 9.30. (수) : 수지구보건소 선별진료소 검체채취\n",
            "○ 10.1. (목) 09:40 : 민간검사기관(녹십자)에서 양성판정\n",
            "                          경기도역학조사관 발생보고, 격리병상배정 요청\n",
            " \n",
            " \n",
            "추가 조치사항, 세부동선 및 접촉자 정보는 역학조사 완료 후 공개하도록 하겠습니다.\n",
            " \n",
            "- 질병관리본부 ☎ 1339\n",
            "- 용인시 콜센터 ☎ 1577-1122\n",
            "- 처인구 보건소 ☎ 031-324-4981\n",
            "- 기흥구 보건소 ☎ 031-324-6975\n",
            "- 수지구 보건소 ☎ 031-324-8566\n",
            " \n",
            "\n"
          ],
          "name": "stdout"
        }
      ]
    },
    {
      "cell_type": "code",
      "metadata": {
        "id": "q2LtGL3zBeOM"
      },
      "source": [
        "# scraping formats for the URL\n",
        "# returns routes of the COVID cases\n",
        "\n",
        "### NOTE THAT THIS CODE ONLY WORKS FOR THE TEST URL\n",
        "### FOR FUTURE USE, MODIFY IT ACCORDINGLY FOLLOWING THE TEXT FORMATS OF THE URL\n",
        "\n",
        "detail_text = detail.text\n",
        "\n",
        "pos = detail_text.find('시간대별 주요 동선 및 접촉자 현황')\n",
        "routes = []\n",
        "\n",
        "if pos >= 0:\n",
        "    route_strs = detail_text[pos:].split('○')[1:]\n",
        "    for route_str in route_strs:\n",
        "        date_str, *time_strs = route_str.split('-')\n",
        "        month, day = [int(it) for it in date_str.split('.')[:2]]\n",
        "        for time_str in time_strs:\n",
        "            try:\n",
        "                *heads, description = time_str.split(':')\n",
        "                time_str = ':'.join(heads)\n",
        "                from_str, *to_strs = time_str.split('~')\n",
        "                fhour, fminute = [int(it) for it in from_str.strip().split(':')]\n",
        "                from_time = datetime(year=2020, month=month, day=day, hour=fhour, minute=fminute)\n",
        "                to_time = None\n",
        "                if [it for it in to_strs if it.strip()]:\n",
        "                    to_str = to_strs[0]\n",
        "                    thour, tminute = [int(it) for it in to_str.strip().split(':')]\n",
        "                    to_time = datetime(year=2020, month=month, day=day, hour=thour, minute=tminute)\n",
        "\n",
        "                description = description.strip()\n",
        "                print(f'{from_time=}, {to_time=}, {reason=}')\n",
        "                routes.append(Route(\n",
        "                    from_time,\n",
        "                    to_time,\n",
        "                    description,\n",
        "                ))\n",
        "            except:\n",
        "                pass\n",
        "\n",
        "routes"
      ],
      "execution_count": null,
      "outputs": []
    },
    {
      "cell_type": "code",
      "metadata": {
        "id": "F_2kjhUtBeOT",
        "outputId": "9701667b-2ae3-4a9a-abf8-730b7cb7de56"
      },
      "source": [
        "# strip the scraped values by category\n",
        "children = item.parent.find_all(attrs={\"class\": \"txt_le\"})\n",
        "id, name, addr, age, date_str, reason, hospital, comment, *_  = [it.text.strip() for it in children]\n",
        "\n",
        "# check the date value\n",
        "date_str"
      ],
      "execution_count": null,
      "outputs": [
        {
          "output_type": "execute_result",
          "data": {
            "text/plain": [
              "'09-24'"
            ]
          },
          "metadata": {
            "tags": []
          },
          "execution_count": 339
        }
      ]
    },
    {
      "cell_type": "code",
      "metadata": {
        "id": "OAqJ0wr0BeOa",
        "outputId": "32018f95-db22-437c-f1e7-3b290136e089"
      },
      "source": [
        "child = children[0]\r\n",
        "\r\n",
        "# check the child text\r\n",
        "child.text"
      ],
      "execution_count": null,
      "outputs": [
        {
          "output_type": "execute_result",
          "data": {
            "text/plain": [
              "'403'"
            ]
          },
          "metadata": {
            "tags": []
          },
          "execution_count": 210
        }
      ]
    },
    {
      "cell_type": "code",
      "metadata": {
        "id": "0ZLBipCeBeOr"
      },
      "source": [
        "def parse_routes(case: Case):\n",
        "  '''\n",
        "  separate the location data by timeline from routes files;\n",
        "  again, note that this works exclusively for the test URL and for further use, it should be accordingly modified\n",
        "  '''\n",
        "    pos = case.routes_raw.find('시간대별 주요 동선')\n",
        "    routes = []\n",
        "    if pos < 0:\n",
        "        return routes\n",
        "    \n",
        "    route_strs = detail_text[pos:].split('○')[1:]\n",
        "    for route_str in route_strs:\n",
        "        date_str, *time_strs = route_str.split('-')\n",
        "        month, day = [int(it) for it in date_str.split('.')[:2]]\n",
        "        for time_str in time_strs:\n",
        "            try:\n",
        "                *heads, description = time_str.split(':')\n",
        "                time_str = ':'.join(heads)\n",
        "                from_str, *to_strs = time_str.split('~')\n",
        "                fhour, fminute = [int(it) for it in from_str.strip().split(':')]\n",
        "                from_time = datetime(year=2020, month=month, day=day, hour=fhour, minute=fminute)\n",
        "                to_time = None\n",
        "                if [it for it in to_strs if it.strip()]:\n",
        "                    to_str = to_strs[0]\n",
        "                    thour, tminute = [int(it) for it in to_str.strip().split(':')]\n",
        "                    to_time = datetime(year=2020, month=month, day=day, hour=thour, minute=tminute)\n",
        "\n",
        "                description = description.split('\\n')[0].strip()\n",
        "                routes.append(Route(\n",
        "                    from_time,\n",
        "                    to_time,\n",
        "                    description,\n",
        "                ))\n",
        "            except:\n",
        "                pass\n",
        "    return routes"
      ],
      "execution_count": null,
      "outputs": []
    },
    {
      "cell_type": "code",
      "metadata": {
        "id": "Sq_z-hE1BeOu"
      },
      "source": [
        "# specify the scraped location data with the geocode through Naver API\n",
        "# for usage outside South Korea, use a different geocode API\n",
        "\n",
        "cases = []\n",
        "\n",
        "for i, elem in enumerate(html.find_all(attrs={\"class\": \"txt_le expand\"})):\n",
        "    parent = elem.parent\n",
        "    children = parent.find_all(attrs={\"class\": \"txt_le\"})\n",
        "    id, name, addr, age, date_str, reason, hospital, comment, *_  = [it.text.strip() for it in children]\n",
        "    month,day = date_str.split('-')\n",
        "    addr_gps = None\n",
        "    \n",
        "    detail = parent.parent.find_all(attrs={\"class\": \"view_content\"})[i].text\n",
        "    pos = detail.find('[환자현황]')\n",
        "    #print(detail[:200])\n",
        "    \n",
        "    symptom=''\n",
        "    if pos >= 0:\n",
        "        addr = detail.split('○')[2].split(':')[-1].strip()\n",
        "        symptom = detail.split('○')[4].split(':')[-1].strip().split('\\n')[0].strip()\n",
        "        \n",
        "    res = requests.get('https://naveropenapi.apigw.ntruss.com/map-geocode/v2/geocode-js',\n",
        "             params={\n",
        "                 'query': addr,\n",
        "                 'X-NCP-APIGW-API-KEY-ID': '83bfuniegk'\n",
        "             }).json()\n",
        "    \n",
        "    addr_gpos = None\n",
        "    if res.get('status') == 'OK' and res.get('addresses'):\n",
        "        real_addr = res['addresses'][0]\n",
        "        addr_gps = (float(real_addr['y']), float(real_addr['x']))\n",
        "        \n",
        "    \n",
        "    case = Case(\n",
        "        id=int(id),\n",
        "        age=age,\n",
        "        name=name,\n",
        "        addr=addr,\n",
        "        addr_gps=addr_gps,\n",
        "        date=date(year=2020, month=int(month), day=int(day)),\n",
        "        reason=reason,\n",
        "        hospital=hospital,\n",
        "        symptom=symptom,\n",
        "        comment=comment,\n",
        "        routes_raw=detail\n",
        "    )\n",
        "    case.routes = parse_routes(case)\n",
        "    cases.append(case)"
      ],
      "execution_count": null,
      "outputs": []
    },
    {
      "cell_type": "code",
      "metadata": {
        "id": "YqqAiHsdBeOx",
        "outputId": "2815e9c9-3cc0-449e-eba8-5ce8f326ad8e"
      },
      "source": [
        "# check the categorized scraped data\n",
        "\n",
        "[{'title': case.name, 'content': f'''\n",
        "- 이름: {case.name}<br/>\n",
        "- 날짜: {case.date}<br/>\n",
        "- 증상: {case.symptom}<br/>\n",
        "- 병원: {case.hospital}\n",
        "'''.strip(), 'latlng': case.addr_gps} for case in cases]"
      ],
      "execution_count": null,
      "outputs": [
        {
          "output_type": "execute_result",
          "data": {
            "text/plain": [
              "[{'title': '용인-356',\n",
              "  'content': '- 이름: 용인-356<br/>\\n- 날짜: 2020-09-24<br/>\\n- 증상: <br/>\\n- 병원:',\n",
              "  'latlng': (37.303883, 127.12345)},\n",
              " {'title': '용인외-36',\n",
              "  'content': '- 이름: 용인외-36<br/>\\n- 날짜: 2020-09-21<br/>\\n- 증상: 감기 기운<br/>\\n- 병원: 안성생활치료센터',\n",
              "  'latlng': (37.3322771, 127.1101478)},\n",
              " {'title': '용인-355',\n",
              "  'content': '- 이름: 용인-355<br/>\\n- 날짜: 2020-09-20<br/>\\n- 증상: 발열, 근육통<br/>\\n- 병원: 경기도의료원 안성병원',\n",
              "  'latlng': (37.2770259, 127.1534814)},\n",
              " {'title': '용인-354',\n",
              "  'content': '- 이름: 용인-354<br/>\\n- 날짜: 2020-09-19<br/>\\n- 증상: 무증상<br/>\\n- 병원: 안산생활치료센터',\n",
              "  'latlng': (37.3357099, 127.085475)},\n",
              " {'title': '용인외-35',\n",
              "  'content': '- 이름: 용인외-35<br/>\\n- 날짜: 2020-09-19<br/>\\n- 증상: 미각 소실<br/>\\n- 병원: 경기도의료원 수원병원',\n",
              "  'latlng': (37.3072931, 127.0735193)},\n",
              " {'title': '용인-353',\n",
              "  'content': '- 이름: 용인-353<br/>\\n- 날짜: 2020-09-19<br/>\\n- 증상: 발열, 근육통, 설사<br/>\\n- 병원: 경기도의료원 이천병원',\n",
              "  'latlng': (37.2946074, 127.1270503)},\n",
              " {'title': '용인-352',\n",
              "  'content': '- 이름: 용인-352<br/>\\n- 날짜: 2020-09-18<br/>\\n- 증상: 무증상<br/>\\n- 병원: 경기도의료원 이천병원',\n",
              "  'latlng': (37.2378706, 127.0752472)},\n",
              " {'title': '용인-351',\n",
              "  'content': '- 이름: 용인-351<br/>\\n- 날짜: 2020-09-18<br/>\\n- 증상: 기침, 가래<br/>\\n- 병원: 안성생활치료센터',\n",
              "  'latlng': (37.2779244, 127.1056364)},\n",
              " {'title': '용인-350',\n",
              "  'content': '- 이름: 용인-350<br/>\\n- 날짜: 2020-09-16<br/>\\n- 증상: 호흡곤란, 식은땀, 근육통<br/>\\n- 병원: 경기도의료원 이천병원',\n",
              "  'latlng': (37.2745638, 127.0749394)},\n",
              " {'title': '용인-349',\n",
              "  'content': '- 이름: 용인-349<br/>\\n- 날짜: 2020-09-16<br/>\\n- 증상: 몸살기운<br/>\\n- 병원: 경기도 안산생활치료센터',\n",
              "  'latlng': (37.3210317, 127.0786475)}]"
            ]
          },
          "metadata": {
            "tags": []
          },
          "execution_count": 375
        }
      ]
    },
    {
      "cell_type": "code",
      "metadata": {
        "id": "TitNUjrXBeO0",
        "outputId": "c4b48932-4fe0-4dbe-da84-4b56a753b9d0"
      },
      "source": [
        "# check the case numbers, contraction, and time data\n",
        "\n",
        "case = cases[5]\n",
        "print(case.name, case.addr)\n",
        "case.routes"
      ],
      "execution_count": null,
      "outputs": [
        {
          "output_type": "stream",
          "text": [
            "용인-353 기흥구 언남로 15, 하마비마을 동일하이빌2차(언남동)\n"
          ],
          "name": "stdout"
        },
        {
          "output_type": "execute_result",
          "data": {
            "text/plain": [
              "[Route(from_time=datetime.datetime(2020, 9, 10, 0, 0), to_time=datetime.datetime(2020, 9, 10, 14, 0), description='자택 기거', addr_gps=None),\n",
              " Route(from_time=datetime.datetime(2020, 9, 10, 15, 0), to_time=datetime.datetime(2020, 9, 10, 0, 30), description='타지역 동선(광명시, 자차 이동)', addr_gps=None),\n",
              " Route(from_time=datetime.datetime(2020, 9, 11, 1, 30), to_time=datetime.datetime(2020, 9, 11, 14, 0), description='자택 기거', addr_gps=None),\n",
              " Route(from_time=datetime.datetime(2020, 9, 11, 15, 0), to_time=datetime.datetime(2020, 9, 11, 0, 30), description='타지역 동선(광명시, 자차 이동)', addr_gps=None),\n",
              " Route(from_time=datetime.datetime(2020, 9, 12, 1, 30), to_time=datetime.datetime(2020, 9, 12, 11, 45), description='자택 기거', addr_gps=None),\n",
              " Route(from_time=datetime.datetime(2020, 9, 12, 12, 0), to_time=datetime.datetime(2020, 9, 12, 15, 0), description='타지역 동선(서울 금천구, 자차 이동)', addr_gps=None),\n",
              " Route(from_time=datetime.datetime(2020, 9, 12, 16, 45), to_time=None, description='귀가 후 자택(자차 이동)', addr_gps=None),\n",
              " Route(from_time=datetime.datetime(2020, 9, 14, 0, 0), to_time=datetime.datetime(2020, 9, 14, 5, 0), description='자택 기거', addr_gps=None),\n",
              " Route(from_time=datetime.datetime(2020, 9, 14, 6, 0), to_time=datetime.datetime(2020, 9, 14, 15, 30), description='타지역 동선(광명시, 자차 이동)', addr_gps=None),\n",
              " Route(from_time=datetime.datetime(2020, 9, 14, 16, 30), to_time=None, description='자택 귀가', addr_gps=None),\n",
              " Route(from_time=datetime.datetime(2020, 9, 15, 5, 0), to_time=None, description='자택 기거', addr_gps=None),\n",
              " Route(from_time=datetime.datetime(2020, 9, 15, 7, 0), to_time=datetime.datetime(2020, 9, 15, 12, 0), description='타지역 동선(광명시, 자차 이동)', addr_gps=None),\n",
              " Route(from_time=datetime.datetime(2020, 9, 15, 14, 19), to_time=None, description='강남병원 선별진료소 방문하여 검체 채취(자차 이동)', addr_gps=None),\n",
              " Route(from_time=datetime.datetime(2020, 9, 15, 15, 0), to_time=None, description='자택 귀가(자차 이동)', addr_gps=None),\n",
              " Route(from_time=datetime.datetime(2020, 9, 16, 8, 30), to_time=None, description='민간 검사기관(녹십자)에서 양성 판정', addr_gps=None),\n",
              " Route(from_time=datetime.datetime(2020, 9, 16, 14, 0), to_time=None, description='안산생활치료센터로 이송(수지구보건소 구급차)', addr_gps=None),\n",
              " Route(from_time=datetime.datetime(2020, 9, 16, 14, 0), to_time=None, description='자택 방역소독 완료', addr_gps=None)]"
            ]
          },
          "metadata": {
            "tags": []
          },
          "execution_count": 329
        }
      ]
    },
    {
      "cell_type": "code",
      "metadata": {
        "id": "5Uru6HOsBeO8",
        "outputId": "30bf8d8d-fca8-4a1b-c99e-b0364bfb02f3"
      },
      "source": [
        "# check a test address\r\n",
        "case.addr"
      ],
      "execution_count": null,
      "outputs": [
        {
          "output_type": "execute_result",
          "data": {
            "text/plain": [
              "'기흥구 언남로 15, 하마비마을 동일하이빌2차(언남동)'"
            ]
          },
          "metadata": {
            "tags": []
          },
          "execution_count": 332
        }
      ]
    },
    {
      "cell_type": "code",
      "metadata": {
        "id": "IG-EHXxIBeO_",
        "outputId": "ba819e9f-d9e6-4e32-e882-9643b597614e"
      },
      "source": [
        "# check the Naver geocode API template\n",
        "\n",
        "res = requests.get('https://naveropenapi.apigw.ntruss.com/map-geocode/v2/geocode-js',\n",
        "             params={\n",
        "                 'query': '경기도 용인시',\n",
        "                 'X-NCP-APIGW-API-KEY-ID': '83bfuniegk'\n",
        "             }).json()\n",
        "res"
      ],
      "execution_count": null,
      "outputs": [
        {
          "output_type": "execute_result",
          "data": {
            "text/plain": [
              "{'status': 'OK',\n",
              " 'meta': {'totalCount': 1, 'page': 1, 'count': 1},\n",
              " 'addresses': [{'roadAddress': '경기도 용인시',\n",
              "   'jibunAddress': '경기도 용인시',\n",
              "   'englishAddress': 'Yongin-si, Gyeonggi-do, Republic of Korea',\n",
              "   'addressElements': [{'types': ['SIDO'],\n",
              "     'longName': '경기도',\n",
              "     'shortName': '경기도',\n",
              "     'code': ''},\n",
              "    {'types': ['SIGUGUN'], 'longName': '용인시', 'shortName': '용인시', 'code': ''},\n",
              "    {'types': ['DONGMYUN'], 'longName': '', 'shortName': '', 'code': ''},\n",
              "    {'types': ['RI'], 'longName': '', 'shortName': '', 'code': ''},\n",
              "    {'types': ['ROAD_NAME'], 'longName': '', 'shortName': '', 'code': ''},\n",
              "    {'types': ['BUILDING_NUMBER'],\n",
              "     'longName': '',\n",
              "     'shortName': '',\n",
              "     'code': ''},\n",
              "    {'types': ['BUILDING_NAME'], 'longName': '', 'shortName': '', 'code': ''},\n",
              "    {'types': ['LAND_NUMBER'], 'longName': '', 'shortName': '', 'code': ''},\n",
              "    {'types': ['POSTAL_CODE'], 'longName': '', 'shortName': '', 'code': ''}],\n",
              "   'x': '127.1775942',\n",
              "   'y': '37.2410999',\n",
              "   'distance': 0.0}],\n",
              " 'errorMessage': ''}"
            ]
          },
          "metadata": {
            "tags": []
          },
          "execution_count": 362
        }
      ]
    },
    {
      "cell_type": "code",
      "metadata": {
        "id": "WjSqDpbUBePC",
        "outputId": "51deec7e-be05-45e5-800f-4e25c6a3d4a4"
      },
      "source": [
        "# matching a location ID from the addresses\r\n",
        "\r\n",
        "res.get('addresses')"
      ],
      "execution_count": null,
      "outputs": [
        {
          "output_type": "execute_result",
          "data": {
            "text/plain": [
              "[{'roadAddress': '경기도 용인시 기흥구 언남로 15 하마비마을동일하이빌2차아파트',\n",
              "  'jibunAddress': '경기도 용인시 기흥구 언남동 496 하마비마을동일하이빌2차아파트',\n",
              "  'englishAddress': '15, Eonnam-ro, Giheung-gu, Yongin-si, Gyeonggi-do, Republic of Korea',\n",
              "  'addressElements': [{'types': ['SIDO'],\n",
              "    'longName': '경기도',\n",
              "    'shortName': '경기도',\n",
              "    'code': ''},\n",
              "   {'types': ['SIGUGUN'],\n",
              "    'longName': '용인시 기흥구',\n",
              "    'shortName': '용인시 기흥구',\n",
              "    'code': ''},\n",
              "   {'types': ['DONGMYUN'], 'longName': '언남동', 'shortName': '언남동', 'code': ''},\n",
              "   {'types': ['RI'], 'longName': '', 'shortName': '', 'code': ''},\n",
              "   {'types': ['ROAD_NAME'], 'longName': '언남로', 'shortName': '언남로', 'code': ''},\n",
              "   {'types': ['BUILDING_NUMBER'],\n",
              "    'longName': '15',\n",
              "    'shortName': '15',\n",
              "    'code': ''},\n",
              "   {'types': ['BUILDING_NAME'],\n",
              "    'longName': '하마비마을동일하이빌2차아파트',\n",
              "    'shortName': '하마비마을동일하이빌2차아파트',\n",
              "    'code': ''},\n",
              "   {'types': ['LAND_NUMBER'],\n",
              "    'longName': '496',\n",
              "    'shortName': '496',\n",
              "    'code': ''},\n",
              "   {'types': ['POSTAL_CODE'],\n",
              "    'longName': '16918',\n",
              "    'shortName': '16918',\n",
              "    'code': ''}],\n",
              "  'x': '127.1270503',\n",
              "  'y': '37.2946074',\n",
              "  'distance': 0.0}]"
            ]
          },
          "metadata": {
            "tags": []
          },
          "execution_count": 325
        }
      ]
    },
    {
      "cell_type": "code",
      "metadata": {
        "id": "962f1JVmBePF"
      },
      "source": [
        ""
      ],
      "execution_count": null,
      "outputs": []
    }
  ]
}